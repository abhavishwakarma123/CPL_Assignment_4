{
 "cells": [
  {
   "cell_type": "code",
   "execution_count": 1,
   "id": "76aee68e",
   "metadata": {},
   "outputs": [],
   "source": [
    "import numpy as np         #for loading files"
   ]
  },
  {
   "cell_type": "code",
   "execution_count": 2,
   "id": "d40da5c6",
   "metadata": {},
   "outputs": [
    {
     "name": "stdout",
     "output_type": "stream",
     "text": [
      "importing Jupyter notebook from mylibrary.ipynb\n"
     ]
    }
   ],
   "source": [
    "import import_ipynb        #for importing ipynb files\n",
    "import mylibrary as ml"
   ]
  },
  {
   "cell_type": "code",
   "execution_count": 3,
   "id": "e27e092e",
   "metadata": {},
   "outputs": [],
   "source": [
    "A = np.loadtxt(\"q2.csv\", delimiter = ',')       #loading the file"
   ]
  },
  {
   "cell_type": "code",
   "execution_count": 4,
   "id": "cebf5bd9",
   "metadata": {},
   "outputs": [
    {
     "name": "stdout",
     "output_type": "stream",
     "text": [
      "[-0.25, 1.6666666666666667, -1.8333333333333335, 0.3333333333333333]\n",
      "[0.08333333333333333, -0.6666666666666666, 0.8333333333333334, 0.0]\n",
      "[0.16666666666666666, -0.33333333333333326, -0.3333333333333333, 0.0]\n",
      "[-0.08333333333333333, 0.6666666666666666, 0.16666666666666666, -0.0]\n",
      "\n",
      "\n"
     ]
    }
   ],
   "source": [
    "Inv = ml.LU.inverse(A)                          #finding the inverse\n",
    "ml.Printing.print_matrix(Inv)"
   ]
  },
  {
   "cell_type": "code",
   "execution_count": 5,
   "id": "510f991f",
   "metadata": {},
   "outputs": [
    {
     "name": "stdout",
     "output_type": "stream",
     "text": [
      "[1.0, 0.0, 0.0, 0.0]\n",
      "[0.0, 1.0, 0.0, 0.0]\n",
      "[0.0, 0.0, 1.0, 0.0]\n",
      "[0.0, 0.0, 0.0, 1.0]\n",
      "\n",
      "\n"
     ]
    },
    {
     "data": {
      "text/plain": [
       "' If Mult is close to identity matrix then the inverse is correct '"
      ]
     },
     "execution_count": 5,
     "metadata": {},
     "output_type": "execute_result"
    }
   ],
   "source": [
    "Mult = ml.Matrix_operations.mat_mult(A, Inv)    #checking if inverse is correct\n",
    "Mult = ml.Round.round_matrix(Mult)              #Rounding Mult matrix\n",
    "ml.Printing.print_matrix(Mult)\n",
    "\n",
    "''' If Mult is close to identity matrix then the inverse is correct '''"
   ]
  },
  {
   "cell_type": "code",
   "execution_count": null,
   "id": "e6438eca",
   "metadata": {},
   "outputs": [],
   "source": []
  }
 ],
 "metadata": {
  "kernelspec": {
   "display_name": "Python 3",
   "language": "python",
   "name": "python3"
  },
  "language_info": {
   "codemirror_mode": {
    "name": "ipython",
    "version": 3
   },
   "file_extension": ".py",
   "mimetype": "text/x-python",
   "name": "python",
   "nbconvert_exporter": "python",
   "pygments_lexer": "ipython3",
   "version": "3.8.8"
  }
 },
 "nbformat": 4,
 "nbformat_minor": 5
}
