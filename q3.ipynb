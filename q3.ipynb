{
 "cells": [
  {
   "cell_type": "code",
   "execution_count": 1,
   "id": "221d1db7",
   "metadata": {},
   "outputs": [
    {
     "name": "stdout",
     "output_type": "stream",
     "text": [
      "importing Jupyter notebook from mylibrary.ipynb\n"
     ]
    }
   ],
   "source": [
    "#importing functions\n",
    "\n",
    "import import_ipynb      #for importing other files in jupyter\n",
    "import mylibrary as ml   #for accessing library\n",
    "import numpy as np       #loading files\n",
    "import math"
   ]
  },
  {
   "cell_type": "code",
   "execution_count": 2,
   "id": "b81fa6c3",
   "metadata": {},
   "outputs": [
    {
     "name": "stdout",
     "output_type": "stream",
     "text": [
      "Matrix A is:\n",
      "[[10.   1.   0.   2.5]\n",
      " [ 1.  12.  -0.3  1.1]\n",
      " [ 0.  -0.3  9.5  0. ]\n",
      " [ 2.5  1.1  0.   6. ]]\n",
      "\n",
      "Matrix b is:\n",
      "[[2.2], [2.85], [2.79], [2.87]]\n"
     ]
    }
   ],
   "source": [
    "#loading files\n",
    "\n",
    "A = np.loadtxt('q3.csv', delimiter = ',')\n",
    "b = np.loadtxt('q3_1.csv', delimiter = ',')\n",
    "b = ml.Matrix_operations.make_proper_column(b)\n",
    "\n",
    "print(\"Matrix A is:\")\n",
    "print(A)\n",
    "\n",
    "print()\n",
    "print(\"Matrix b is:\")\n",
    "print(b)"
   ]
  },
  {
   "cell_type": "code",
   "execution_count": 3,
   "id": "53f9249a",
   "metadata": {},
   "outputs": [
    {
     "name": "stdout",
     "output_type": "stream",
     "text": [
      "After cholesky decomposition:\n",
      "\n",
      "Lower triangular matrix is\n",
      "[3.162, 0, 0, 0]\n",
      "[0.316, 3.45, 0, 0]\n",
      "[0.0, -0.087, 3.081, 0]\n",
      "[0.791, 0.246, 0.007, 2.305]\n",
      "\n",
      "\n",
      "\n",
      "Upper triangular matrix is\n",
      "[3.162, 0.316, 0.0, 0.791]\n",
      "[0, 3.45, -0.087, 0.246]\n",
      "[0, 0, 3.081, 0.007]\n",
      "[0, 0, 0, 2.305]\n",
      "\n",
      "\n"
     ]
    }
   ],
   "source": [
    "#Performing cholesky decomposition\n",
    "\n",
    "L, U = ml.LU.cholesky(A)\n",
    "\n",
    "print(\"After cholesky decomposition:\")\n",
    "\n",
    "print()\n",
    "print(\"Lower triangular matrix is\")\n",
    "ml.Printing.print_matrix(ml.Round.round_matrix(L, 3))\n",
    "\n",
    "print()\n",
    "print(\"Upper triangular matrix is\")\n",
    "ml.Printing.print_matrix(ml.Round.round_matrix(U, 3))\n"
   ]
  },
  {
   "cell_type": "code",
   "execution_count": 4,
   "id": "da539f56",
   "metadata": {},
   "outputs": [
    {
     "name": "stdout",
     "output_type": "stream",
     "text": [
      "The given equations are:\n",
      "\n",
      "\n",
      "10.0 x +  1.0 y +  0.0 z +  2.5 w =  2.2\n",
      "1.0 x +  12.0 y +  -0.3 z +  1.1 w =  2.85\n",
      "0.0 x +  -0.3 y +  9.5 z +  0.0 w =  2.79\n",
      "2.5 x +  1.1 y +  0.0 z +  6.0 w =  2.87\n",
      "\n",
      "\n",
      "The solutions to second order are:\n",
      "The solutions are:\n",
      "\n",
      "\n",
      "x  =  0.1\n",
      "y  =  0.2\n",
      "z  =  0.3\n",
      "w  =  0.4\n",
      "\n",
      "\n"
     ]
    }
   ],
   "source": [
    "#printing the equations and solving the equation matrix to get matrix x in Ax = b\n",
    "\n",
    "ml.Printing.print_eq(A, b)\n",
    "\n",
    "x = ml.LU.solve(L, U, b)\n",
    "\n",
    "print(\"The solutions to second order are:\")\n",
    "ml.Printing.print_sol(ml.Round.round_matrix(x, 2))"
   ]
  },
  {
   "cell_type": "code",
   "execution_count": 5,
   "id": "9fcaec3a",
   "metadata": {},
   "outputs": [
    {
     "name": "stdout",
     "output_type": "stream",
     "text": [
      "A operated on x gives(to second order):\n",
      "[[2.2], [2.85], [2.79], [2.87]]\n",
      "\n",
      "Since this matches b matrix to second order, which is the maximum order of the values given in b matrix, hence our solutions are correct\n"
     ]
    }
   ],
   "source": [
    "#checking if the solutions are correct\n",
    "\n",
    "B = ml.Matrix_operations.mat_mult(A, x)\n",
    "\n",
    "print(\"A operated on x gives(to second order):\")\n",
    "print(ml.Round.round_matrix(B))\n",
    "\n",
    "print()\n",
    "print(\"Since this matches b matrix to second order, which is the maximum order of the values given in b matrix, hence our solutions are correct\")"
   ]
  },
  {
   "cell_type": "code",
   "execution_count": null,
   "id": "2c1f8004",
   "metadata": {},
   "outputs": [],
   "source": []
  }
 ],
 "metadata": {
  "kernelspec": {
   "display_name": "Python 3",
   "language": "python",
   "name": "python3"
  },
  "language_info": {
   "codemirror_mode": {
    "name": "ipython",
    "version": 3
   },
   "file_extension": ".py",
   "mimetype": "text/x-python",
   "name": "python",
   "nbconvert_exporter": "python",
   "pygments_lexer": "ipython3",
   "version": "3.8.8"
  }
 },
 "nbformat": 4,
 "nbformat_minor": 5
}
