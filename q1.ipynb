{
 "cells": [
  {
   "cell_type": "code",
   "execution_count": 1,
   "id": "211da9bc",
   "metadata": {},
   "outputs": [
    {
     "name": "stdout",
     "output_type": "stream",
     "text": [
      "importing Jupyter notebook from mylibrary.ipynb\n"
     ]
    }
   ],
   "source": [
    "#importing functions\n",
    "\n",
    "import import_ipynb      #for importing other files in jupyter\n",
    "import mylibrary as ml   #for accessing library\n",
    "import numpy as np       #loading files"
   ]
  },
  {
   "cell_type": "code",
   "execution_count": 2,
   "id": "31a957e2",
   "metadata": {},
   "outputs": [
    {
     "name": "stdout",
     "output_type": "stream",
     "text": [
      "[[ 1.  0.  1.  2.]\n",
      " [ 0.  1. -2.  0.]\n",
      " [ 1.  2. -1.  0.]\n",
      " [ 2.  1.  3. -2.]]\n"
     ]
    }
   ],
   "source": [
    "#loading files\n",
    "\n",
    "A = np.loadtxt('q1.csv', delimiter = ',')\n",
    "b = np.loadtxt('q1_1.csv', delimiter = ',')\n",
    "b = ml.Matrix_operations.make_proper_column(b)\n",
    "print(A)"
   ]
  },
  {
   "cell_type": "code",
   "execution_count": 3,
   "id": "5b34a705",
   "metadata": {},
   "outputs": [
    {
     "name": "stdout",
     "output_type": "stream",
     "text": [
      "The given equations are:\n",
      "\n",
      "\n",
      "1.0 x +  0.0 y +  1.0 z +  2.0 w =  6.0\n",
      "0.0 x +  1.0 y +  -2.0 z +  0.0 w =  -3.0\n",
      "1.0 x +  2.0 y +  -1.0 z +  0.0 w =  -2.0\n",
      "2.0 x +  1.0 y +  3.0 z +  -2.0 w =  0.0\n",
      "\n",
      "\n",
      "Using dolittle\n",
      "The solutions are:\n",
      "\n",
      "\n",
      "x  =  1.0\n",
      "y  =  -1.0\n",
      "z  =  1.0\n",
      "w  =  2.0\n",
      "\n",
      "\n",
      "Using crout\n",
      "The solutions are:\n",
      "\n",
      "\n",
      "x  =  1.0\n",
      "y  =  -1.0\n",
      "z  =  1.0\n",
      "w  =  2.0\n",
      "\n",
      "\n"
     ]
    }
   ],
   "source": [
    "#Printing equations\n",
    "\n",
    "ml.Printing.print_eq(A, b)\n",
    "\n",
    "\n",
    "\n",
    "#Solving using dolittle method\n",
    "\n",
    "x = ml.LU.solve_dolittle(A, b)\n",
    "print(\"Using dolittle\")\n",
    "ml.Printing.print_sol(x)\n",
    "\n",
    "\n",
    "\n",
    "#Solving using crout method\n",
    "\n",
    "x = ml.LU.solve_crout(A, b)\n",
    "print(\"Using crout\")\n",
    "ml.Printing.print_sol(x)"
   ]
  },
  {
   "cell_type": "code",
   "execution_count": null,
   "id": "57c524ea",
   "metadata": {},
   "outputs": [],
   "source": []
  }
 ],
 "metadata": {
  "kernelspec": {
   "display_name": "Python 3",
   "language": "python",
   "name": "python3"
  },
  "language_info": {
   "codemirror_mode": {
    "name": "ipython",
    "version": 3
   },
   "file_extension": ".py",
   "mimetype": "text/x-python",
   "name": "python",
   "nbconvert_exporter": "python",
   "pygments_lexer": "ipython3",
   "version": "3.8.8"
  }
 },
 "nbformat": 4,
 "nbformat_minor": 5
}
